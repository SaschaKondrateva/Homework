{
 "cells": [
  {
   "cell_type": "code",
   "execution_count": 33,
   "metadata": {},
   "outputs": [
    {
     "data": {
      "text/plain": [
       "'python is cool you are cool, too '"
      ]
     },
     "execution_count": 33,
     "metadata": {},
     "output_type": "execute_result"
    }
   ],
   "source": [
    "# Задание 1\n",
    "a = 23\n",
    "b = 34.02\n",
    "c = \"python is cool \"\n",
    "d = \"you are cool, too \"\n",
    "c + d"
   ]
  },
  {
   "cell_type": "code",
   "execution_count": 34,
   "metadata": {},
   "outputs": [
    {
     "data": {
      "text/plain": [
       "'you are cool, too python is cool '"
      ]
     },
     "execution_count": 34,
     "metadata": {},
     "output_type": "execute_result"
    }
   ],
   "source": [
    "d + c"
   ]
  },
  {
   "cell_type": "code",
   "execution_count": 27,
   "metadata": {},
   "outputs": [
    {
     "data": {
      "text/plain": [
       "782.46"
      ]
     },
     "execution_count": 27,
     "metadata": {},
     "output_type": "execute_result"
    }
   ],
   "source": [
    "a * b"
   ]
  },
  {
   "cell_type": "code",
   "execution_count": 28,
   "metadata": {},
   "outputs": [
    {
     "data": {
      "text/plain": [
       "'python is coolpython is coolpython is coolpython is coolpython is coolpython is coolpython is coolpython is coolpython is coolpython is coolpython is coolpython is coolpython is coolpython is coolpython is coolpython is coolpython is coolpython is coolpython is coolpython is coolpython is coolpython is coolpython is cool'"
      ]
     },
     "execution_count": 28,
     "metadata": {},
     "output_type": "execute_result"
    }
   ],
   "source": [
    "a * c"
   ]
  },
  {
   "cell_type": "code",
   "execution_count": 29,
   "metadata": {},
   "outputs": [
    {
     "data": {
      "text/plain": [
       "'you are cool, tooyou are cool, tooyou are cool, tooyou are cool, tooyou are cool, tooyou are cool, tooyou are cool, tooyou are cool, tooyou are cool, tooyou are cool, tooyou are cool, tooyou are cool, tooyou are cool, tooyou are cool, tooyou are cool, tooyou are cool, tooyou are cool, tooyou are cool, tooyou are cool, tooyou are cool, tooyou are cool, tooyou are cool, tooyou are cool, too'"
      ]
     },
     "execution_count": 29,
     "metadata": {},
     "output_type": "execute_result"
    }
   ],
   "source": [
    "a * d"
   ]
  },
  {
   "cell_type": "code",
   "execution_count": 21,
   "metadata": {},
   "outputs": [
    {
     "data": {
      "text/plain": [
       "-11.020000000000003"
      ]
     },
     "execution_count": 21,
     "metadata": {},
     "output_type": "execute_result"
    }
   ],
   "source": [
    "a = 23\n",
    "b = 34.02\n",
    "a - b"
   ]
  },
  {
   "cell_type": "code",
   "execution_count": 22,
   "metadata": {},
   "outputs": [
    {
     "data": {
      "text/plain": [
       "11.020000000000003"
      ]
     },
     "execution_count": 22,
     "metadata": {},
     "output_type": "execute_result"
    }
   ],
   "source": [
    "a = 23\n",
    "b = 34.02\n",
    "b - a"
   ]
  },
  {
   "cell_type": "code",
   "execution_count": 43,
   "metadata": {},
   "outputs": [
    {
     "name": "stdout",
     "output_type": "stream",
     "text": [
      "Вокруг нас не было ни одного знакомого лица. Мы не могли ничего спросить. Мы не знали, куда идти.\n"
     ]
    }
   ],
   "source": [
    "# Задание 2\n",
    "line1 = 'Вокруг нас не было ни одного знакомого лица. '\n",
    "line2 = 'Мы не могли ничего спросить. '\n",
    "line3 = 'Мы не знали, куда идти.'\n",
    "lines = line1+line2+line3\n",
    "print(lines)"
   ]
  },
  {
   "cell_type": "code",
   "execution_count": 24,
   "metadata": {},
   "outputs": [
    {
     "name": "stdout",
     "output_type": "stream",
     "text": [
      "Мы не могли ничего спросить. Мы не могли ничего спросить. Мы не знали, куда идти.\n"
     ]
    }
   ],
   "source": [
    "line2 = 'Мы не могли ничего спросить. '\n",
    "line3 = 'Мы не знали, куда идти.'\n",
    "print(line2 * 2 + line3)"
   ]
  },
  {
   "cell_type": "code",
   "execution_count": 81,
   "metadata": {},
   "outputs": [
    {
     "name": "stdout",
     "output_type": "stream",
     "text": [
      "спаниель\n"
     ]
    }
   ],
   "source": [
    "# Задание 3\n",
    "word = 'апельсин'\n",
    "sl1 = word[1::-1]\n",
    "sl2 = word[:5:-1]\n",
    "sl3 = word[2:5]\n",
    "sl = sl1+sl2+sl3\n",
    "print(word[5]+sl)"
   ]
  },
  {
   "cell_type": "code",
   "execution_count": 83,
   "metadata": {},
   "outputs": [
    {
     "name": "stdout",
     "output_type": "stream",
     "text": [
      "wow,noel sees leon\n"
     ]
    }
   ],
   "source": [
    "# Задание 4\n",
    "text = \"WOW,NOEL SEES LEON\"\n",
    "print(text.lower())"
   ]
  },
  {
   "cell_type": "code",
   "execution_count": 3,
   "metadata": {},
   "outputs": [
    {
     "name": "stdout",
     "output_type": "stream",
     "text": [
      "NOEL SEES LEON,WOW\n"
     ]
    }
   ],
   "source": [
    "text = \"WOW,NOEL SEES LEON\"\n",
    "print(text[::-1])"
   ]
  },
  {
   "cell_type": "code",
   "execution_count": null,
   "metadata": {},
   "outputs": [],
   "source": []
  }
 ],
 "metadata": {
  "kernelspec": {
   "display_name": "Python 3",
   "language": "python",
   "name": "python3"
  },
  "language_info": {
   "codemirror_mode": {
    "name": "ipython",
    "version": 3
   },
   "file_extension": ".py",
   "mimetype": "text/x-python",
   "name": "python",
   "nbconvert_exporter": "python",
   "pygments_lexer": "ipython3",
   "version": "3.8.6"
  }
 },
 "nbformat": 4,
 "nbformat_minor": 4
}
