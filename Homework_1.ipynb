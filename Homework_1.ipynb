{
 "cells": [
  {
   "cell_type": "code",
   "execution_count": null,
   "metadata": {},
   "outputs": [],
   "source": [
    "c = \"python is cool, \"\n",
    "d = \"you are cool, too\"\n",
    "concat = c +d\n",
    "print(concat)"
   ]
  },
  {
   "cell_type": "code",
   "execution_count": 42,
   "metadata": {},
   "outputs": [
    {
     "data": {
      "text/plain": [
       "'python is coolpython is coolpython is coolpython is coolpython is coolpython is coolpython is coolpython is coolpython is coolpython is coolpython is coolpython is coolpython is coolpython is coolpython is coolpython is coolpython is coolpython is coolpython is coolpython is coolpython is coolpython is coolpython is cool'"
      ]
     },
     "execution_count": 42,
     "metadata": {},
     "output_type": "execute_result"
    }
   ],
   "source": [
    "a = 23\n",
    "c = \"python is cool\"\n",
    "a*c"
   ]
  },
  {
   "cell_type": "code",
   "execution_count": 43,
   "metadata": {},
   "outputs": [
    {
     "name": "stdout",
     "output_type": "stream",
     "text": [
      "Вокруг нас не было ни одного знакомого лица. Мы не могли ничего спросить. Мы не знали, куда идти.\n"
     ]
    }
   ],
   "source": [
    "line1 = 'Вокруг нас не было ни одного знакомого лица. '\n",
    "line2 = 'Мы не могли ничего спросить. '\n",
    "line3 = 'Мы не знали, куда идти.'\n",
    "lines = line1+line2+line3\n",
    "print(lines)"
   ]
  },
  {
   "cell_type": "code",
   "execution_count": 81,
   "metadata": {},
   "outputs": [
    {
     "name": "stdout",
     "output_type": "stream",
     "text": [
      "спаниель\n"
     ]
    }
   ],
   "source": [
    "word = 'апельсин'\n",
    "sl1 = word[1::-1]\n",
    "sl2 = word[:5:-1]\n",
    "sl3 = word[2:5]\n",
    "sl = sl1+sl2+sl3\n",
    "print(word[5]+sl)"
   ]
  },
  {
   "cell_type": "code",
   "execution_count": 83,
   "metadata": {},
   "outputs": [
    {
     "name": "stdout",
     "output_type": "stream",
     "text": [
      "wow,noel sees leon\n"
     ]
    }
   ],
   "source": [
    "text = \"WOW,NOEL SEES LEON\"\n",
    "print(text.lower())"
   ]
  }
 ],
 "metadata": {
  "kernelspec": {
   "display_name": "Python 3",
   "language": "python",
   "name": "python3"
  },
  "language_info": {
   "codemirror_mode": {
    "name": "ipython",
    "version": 3
   },
   "file_extension": ".py",
   "mimetype": "text/x-python",
   "name": "python",
   "nbconvert_exporter": "python",
   "pygments_lexer": "ipython3",
   "version": "3.8.6"
  }
 },
 "nbformat": 4,
 "nbformat_minor": 4
}
