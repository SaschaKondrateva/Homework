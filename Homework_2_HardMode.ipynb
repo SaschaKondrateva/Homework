{
 "cells": [
  {
   "cell_type": "code",
   "execution_count": 1,
   "metadata": {},
   "outputs": [
    {
     "name": "stdout",
     "output_type": "stream",
     "text": [
      "это не делится на 5, продолжим поиск\n",
      "это не делится на 5, продолжим поиск\n",
      "это не делится на 5, продолжим поиск\n",
      "это не делится на 5, продолжим поиск\n",
      "это не делится на 5, продолжим поиск\n",
      "это не делится на 5, продолжим поиск\n",
      "35 делится на 5\n"
     ]
    }
   ],
   "source": [
    "#Задача 1\n",
    "numbers = [2,6,7,45,1,89,678,35]\n",
    " \n",
    "for i in numbers:\n",
    "    if i == 45:\n",
    "        continue\n",
    "        print(i)\n",
    "    if i%5 == 0:\n",
    "        print(i, \"делится на 5\")\n",
    "    else:\n",
    "        print(\"это не делится на 5, продолжим поиск\")\n",
    "  "
   ]
  },
  {
   "cell_type": "code",
   "execution_count": 6,
   "metadata": {},
   "outputs": [
    {
     "name": "stdout",
     "output_type": "stream",
     "text": [
      "Сегодня в вашем коктейле будет:  ['красный вермут', 'тоник', 'апельсины']\n"
     ]
    }
   ],
   "source": [
    "#Задача 2\n",
    "import random\n",
    "cocktails = [[\"мартини\",\"грейпфрутовый сок\",\"жасмин\",\"тоник\",\"лосось\"],\n",
    "               [\"клубника\",\"какао\",\"мята\",\"марсала\"],\n",
    "               [\"водка\",\"томатный сок\",\"лимонный сок\",\"вустерширский соус\",\"черный перец\",\"сельдерей\",\"лосось\"],\n",
    "               [\"джин\",\"вермут\",\"ликер мараскино\",\"апельсины\",\"коктейльная вишня\",\"лосось\"],\n",
    "               [\"ром\",\"авокадо\",\"сахарный сироп\",\"сливки\",\"лимонный сок\",\"лед\"],\n",
    "               [\"красный вермут\",\"тоник\",\"апельсины\",\"лосось\"],\n",
    "               [\"только чай\"]\n",
    "            ]\n",
    "item = \"лосось\"  # элемент для удаления\n",
    "if item in cocktails[0]:\n",
    "    cocktails[0].remove(item)\n",
    "if item in cocktails[1]:\n",
    "    cocktails[1].remove(item)\n",
    "if item in cocktails[2]:\n",
    "    cocktails[2].remove(item)\n",
    "if item in cocktails[3]:\n",
    "    cocktails[3].remove(item)    \n",
    "if item in cocktails[4]:\n",
    "    cocktails[4].remove(item)\n",
    "if item in cocktails[5]:\n",
    "    cocktails[5].remove(item)    \n",
    "if item in cocktails[6]:\n",
    "    cocktails[6].remove(item)\n",
    "chosen_cocktail = random.choice(cocktails)\n",
    "print('Сегодня в вашем коктейле будет: ', chosen_cocktail)\n",
    "\n",
    "# К сожалению, пока не разобралась с list comprehension.\n",
    "# Уверена, что написанное также можно оптимизировать, но не догадалась, поэтому пока так:("
   ]
  }
 ],
 "metadata": {
  "kernelspec": {
   "display_name": "Python 3",
   "language": "python",
   "name": "python3"
  },
  "language_info": {
   "codemirror_mode": {
    "name": "ipython",
    "version": 3
   },
   "file_extension": ".py",
   "mimetype": "text/x-python",
   "name": "python",
   "nbconvert_exporter": "python",
   "pygments_lexer": "ipython3",
   "version": "3.8.6"
  }
 },
 "nbformat": 4,
 "nbformat_minor": 4
}
