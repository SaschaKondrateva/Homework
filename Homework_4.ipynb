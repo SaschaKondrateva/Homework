{
 "cells": [
  {
   "cell_type": "code",
   "execution_count": 2,
   "metadata": {},
   "outputs": [
    {
     "name": "stdout",
     "output_type": "stream",
     "text": [
      "агрофармнанонефтьэкспокредит\n"
     ]
    }
   ],
   "source": [
    "# Задание 1\n",
    "import random\n",
    "\n",
    "names = [\"пром\",\"агро\",\"торг\",\"урал\",\"север\",\"юг\",\"техно\",\n",
    "\"экспо\",\"метал\",\"нефть\",\"сельхоз\",\"фарм\",\"строй\",\n",
    "\"кредит\",\"алмаз\",\"-девелопмент\",\"развитие\",\"мос\",\n",
    "\"рос\",\"кубань\",\"сибирь\",\"восток\",\"нано\",\"софт\",\n",
    "\"микро\",\"онлайн\",\"инвест\",\"текстиль\",\"цемент\"]\n",
    "\n",
    "company = ''\n",
    "\n",
    "for i in range (6):\n",
    "    company = company + random.choice(names)\n",
    "    \n",
    "print(company)"
   ]
  },
  {
   "cell_type": "code",
   "execution_count": 7,
   "metadata": {},
   "outputs": [],
   "source": [
    "# Задание 2\n",
    "def trs(text):\n",
    "    dictionary = {'а':'a','б':'b','в':'v','г':'g','д':'d','е':'e','ё':'yo',\n",
    "      'ж':'zh','з':'z','и':'i','й':'i','к':'k','л':'l','м':'m','н':'n',\n",
    "      'о':'o','п':'p','р':'r','с':'s','т':'t','у':'u','ф':'f','х':'h',\n",
    "      'ц':'c','ч':'ch','ш':'sh','щ':'sch','ъ':'','ы':'y','ь':'','э':'e',\n",
    "      'ю':'u','я':'ya', 'А':'A','Б':'B','В':'V','Г':'G','Д':'D','Е':'E','Ё':'YO',\n",
    "      'Ж':'ZH','З':'Z','И':'I','Й':'I','К':'K','Л':'L','М':'M','Н':'N',\n",
    "      'О':'O','П':'P','Р':'R','С':'S','Т':'T','У':'U','Ф':'F','Х':'H',\n",
    "      'Ц':'C','Ч':'CH','Ш':'SH','Щ':'SCH','Ъ':'','Ы':'y','Ь':'','Э':'E',\n",
    "      'Ю':'U','Я':'YA',',':',','?':'?','~':'','!':'!','@':'','#':'',\n",
    "      '$':'','%':'','^':'','&':'','*':'','(':'',')':'','-':'-','=':'','+':'+',\n",
    "      ':':'',';':'','<':'','>':'','\\'':'','\"':'','\\\\':'','/':'','№':'',\n",
    "      '[':'',']':'','{':'','}':'','ґ':'','ї':'', 'є':'','Ґ':'g','Ї':'i',\n",
    "      'Є':'e', '—':'—'} \n",
    "   \n",
    "    word = ''\n",
    "    for letter in text:\n",
    "        word+=dictionary.get(letter, letter)\n",
    "    \n",
    "    return word"
   ]
  },
  {
   "cell_type": "code",
   "execution_count": 8,
   "metadata": {},
   "outputs": [
    {
     "name": "stdout",
     "output_type": "stream",
     "text": [
      "Kak soobschaet v Twitter rossiiskii kosmonavt-ispytatel Sergei Kud-Sverchkov, v blizhaishuu nedelu na nebosklone mozhno budet uvidet prolet Mezhdunarodnoi kosmicheskoi stancii. Ona budet pohozha na yarkuu zvezdu i letet nad uzhnoi chastu neba. Esli tochnee, peremeschatsya s ugo-zapada na ugo-vostok. «Za noch mozhno uvidet neskolko proletov stancii, t.k. period eyo obrascheniya vokrug Zemli sostavlyaet okolo 1,5 chasov», — utochnyaet kosmonavt.\n"
     ]
    }
   ],
   "source": [
    "news = 'Как сообщает в Twitter российский космонавт-испытатель Сергей Кудь-Сверчков, в ближайшую неделю на небосклоне можно будет увидеть пролет Международной космической станции. Она будет похожа на яркую звезду и лететь над южной частью неба. Если точнее, перемещаться с юго-запада на юго-восток. «За ночь можно увидеть несколько пролетов станции, т.к. период её обращения вокруг Земли составляет около 1,5 часов», — уточняет космонавт.'\n",
    "print(trs(news))"
   ]
  },
  {
   "cell_type": "code",
   "execution_count": null,
   "metadata": {},
   "outputs": [],
   "source": []
  }
 ],
 "metadata": {
  "kernelspec": {
   "display_name": "Python 3",
   "language": "python",
   "name": "python3"
  },
  "language_info": {
   "codemirror_mode": {
    "name": "ipython",
    "version": 3
   },
   "file_extension": ".py",
   "mimetype": "text/x-python",
   "name": "python",
   "nbconvert_exporter": "python",
   "pygments_lexer": "ipython3",
   "version": "3.8.6"
  }
 },
 "nbformat": 4,
 "nbformat_minor": 4
}
