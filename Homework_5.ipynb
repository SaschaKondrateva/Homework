{
 "cells": [
  {
   "cell_type": "code",
   "execution_count": 13,
   "metadata": {},
   "outputs": [
    {
     "name": "stdout",
     "output_type": "stream",
     "text": [
      "{'二ノ宮@黒川.日本', 'δοκιμή@παράδειγμα.δοκιμή', 'x@example.com', 'username@example.org', 'simple@example.com', 'domain@example.com', 'Pelé@example.com', 'hyphen@example.com', 'janedoeentrprise@bell.com', '我買@屋企.香港', 'symbol@example.com', 'jsmith@example.com', 'very.common@example.com', 'baseballbro25@aim.com'}\n"
     ]
    }
   ],
   "source": [
    "import re\n",
    "text = '''your name in lower letters@ the name of the internet provider example\n",
    "\n",
    "Well, janedoeentrprise@bell.com this is just example you do not have to use your own name you can use the name of your company if you have one. OR any name that comes to mind as long as you have the correct internet providers address\n",
    "\n",
    "Even if “baseballbro25@aim.com” serves as a nostalgic reminder for your peak athletic years, it’ll look like an eyesore on your resume and prompt any recruiter or hiring manager to press delete.\n",
    "\n",
    "A specific example is jsmith@example.com. Thus, an address consists of two principal parts, a username and a domain name. The domain name is used to transport a mail message to the host of the recipient's mail system.\n",
    "\n",
    "simple@example.com\n",
    "very.common@example.com\n",
    "disposable.style.email.with+symbol@example.com\n",
    "other.email-with-hyphen@example.com\n",
    "fully-qualified-domain@example.com\n",
    "x@example.com (one-letter local-part)\n",
    "example-indeed@strange-example.com\n",
    "\" \"@example.org (space between the quotes)\n",
    "\"john..doe\"@example.org (quoted double dot)\n",
    "mailhost!username@example.org (bangified host route used for uucp mailers)\n",
    "Gmail ignores all dots in the local-part of a @gmail.com address for the purposes of determining account identity.[12] The example addresses below would not be handled by RFC 5322 based servers, but are permitted by RFC 6530. Servers compliant with this will be able to handle these:\n",
    "\n",
    "Latin alphabet with diacritics: Pelé@example.com\n",
    "Greek alphabet: δοκιμή@παράδειγμα.δοκιμή\n",
    "Traditional Chinese characters: 我買@屋企.香港\n",
    "Japanese characters: 二ノ宮@黒川.日本\n",
    "Cyrillic characters: медведь@с-балалайкой.рф\n",
    "Devanagari characters: संपर्क@डाटामेल.भारत'''\n",
    "\n",
    "result1 = re.findall(r'\\w+\\.\\w+@\\w+\\.\\w+|\\w+@\\w+\\.\\w+', text)\n",
    "print (set(result1))"
   ]
  },
  {
   "cell_type": "code",
   "execution_count": 14,
   "metadata": {},
   "outputs": [
    {
     "name": "stdout",
     "output_type": "stream",
     "text": [
      "14 уникальных адресов электронной почты\n"
     ]
    }
   ],
   "source": [
    "a = (len(result1))\n",
    "print(a, 'уникальных адресов электронной почты')"
   ]
  },
  {
   "cell_type": "code",
   "execution_count": 19,
   "metadata": {},
   "outputs": [
    {
     "name": "stdout",
     "output_type": "stream",
     "text": [
      "{'@aim.com', '@παράδειγμα.δοκιμή', '@黒川.日本', '@屋企.香港', '@example.com', '@bell.com', '@example.org', '@gmail.com'}\n"
     ]
    }
   ],
   "source": [
    "result2 = re.findall(r'@\\w+\\.\\w+', text)\n",
    "result2 = set(result2)\n",
    "print(result2)"
   ]
  },
  {
   "cell_type": "code",
   "execution_count": 21,
   "metadata": {},
   "outputs": [
    {
     "name": "stdout",
     "output_type": "stream",
     "text": [
      "8 уникальных доменных имен\n"
     ]
    }
   ],
   "source": [
    "b = (len(result2))\n",
    "print(b, 'уникальных доменных имен')"
   ]
  },
  {
   "cell_type": "code",
   "execution_count": null,
   "metadata": {},
   "outputs": [],
   "source": []
  }
 ],
 "metadata": {
  "kernelspec": {
   "display_name": "Python 3",
   "language": "python",
   "name": "python3"
  },
  "language_info": {
   "codemirror_mode": {
    "name": "ipython",
    "version": 3
   },
   "file_extension": ".py",
   "mimetype": "text/x-python",
   "name": "python",
   "nbconvert_exporter": "python",
   "pygments_lexer": "ipython3",
   "version": "3.8.7"
  }
 },
 "nbformat": 4,
 "nbformat_minor": 4
}
