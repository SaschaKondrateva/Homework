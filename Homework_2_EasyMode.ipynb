{
 "cells": [
  {
   "cell_type": "code",
   "execution_count": 1,
   "metadata": {},
   "outputs": [
    {
     "name": "stdout",
     "output_type": "stream",
     "text": [
      "по шкале от 0 до 10, напишите, насколько Вы устали: 11\n",
      "Так нельзя\n"
     ]
    }
   ],
   "source": [
    "#Задание 1\n",
    "a = float(input('по шкале от 0 до 10, напишите, насколько Вы устали: '))\n",
    "if a < 0.7:\n",
    "    print('Кажется, Вы совсем не устали')\n",
    "elif 0.7 <= a <= 6.8:\n",
    "    print('Вы средненько устали')\n",
    "elif a > 10:\n",
    "    print('Так нельзя')"
   ]
  },
  {
   "cell_type": "code",
   "execution_count": 3,
   "metadata": {},
   "outputs": [
    {
     "name": "stdout",
     "output_type": "stream",
     "text": [
      "по шкале от 0 до 10, напишите, насколько Вы устали: 9.2\n",
      "Прямо сейчас отложите все дела и отдохните\n"
     ]
    }
   ],
   "source": [
    "a = float(input('по шкале от 0 до 10, напишите, насколько Вы устали: '))\n",
    "if a < 0.7:\n",
    "    print('Кажется, Вы совсем не устали')\n",
    "elif 0.7 <= a <= 6.8:\n",
    "    print('Вы средненько устали')\n",
    "elif 6.9 <= a <= 8.5:\n",
    "    print('Всё же пора немного отдохнуть')\n",
    "elif 8.6 <= a <= 10:\n",
    "    print('Прямо сейчас отложите все дела и отдохните')\n",
    "elif a > 10:\n",
    "    print('Так нельзя')"
   ]
  },
  {
   "cell_type": "code",
   "execution_count": 8,
   "metadata": {},
   "outputs": [
    {
     "name": "stdout",
     "output_type": "stream",
     "text": [
      "100\n",
      "90\n",
      "80\n",
      "70\n",
      "60\n",
      "50\n",
      "40\n",
      "30\n",
      "20\n",
      "10\n",
      "0\n",
      "программа завершилась\n"
     ]
    }
   ],
   "source": [
    "#Задание 2\n",
    "i = 100\n",
    "while i >= 0: \n",
    "    print(i) \n",
    "    i = i - 10\n",
    "print('программа завершилась')"
   ]
  },
  {
   "cell_type": "code",
   "execution_count": 10,
   "metadata": {},
   "outputs": [
    {
     "name": "stdout",
     "output_type": "stream",
     "text": [
      "['я устал', 'я улетел к океану', 'на улице холодно', 'на улице жарко', 'я в отпуске', 'у меня день рождения', 'сегодня выходной', 'мне надоело', 'я работаю из дома', 'могу', 'плохо себя чувствую', 'не хочу', 'у меня лапки', 'я в отпуске!', 'на улице ураган', 'не хочу']\n"
     ]
    }
   ],
   "source": [
    "#Задание 3\n",
    "import random\n",
    "excuses = [\"я устал\",\"я улетел к океану\",\"на улице холодно\",\"на улице жарко\",  \n",
    "           \"я в отпуске\",\"у меня день рождения\",\"сегодня выходной\",\"мне надоело\",\n",
    "           \"я работаю из дома\",\"могу\",\"плохо себя чувствую\",\"не хочу\", \"у меня лапки\",\"я в отпуске!\",\n",
    "           \"на улице ураган\"]\n",
    "excuses.append('не хочу')\n",
    "print(excuses)"
   ]
  },
  {
   "cell_type": "code",
   "execution_count": 13,
   "metadata": {},
   "outputs": [
    {
     "name": "stdout",
     "output_type": "stream",
     "text": [
      "Сегодня я не иду на работу, потому что на улице ураган\n"
     ]
    }
   ],
   "source": [
    "chosen_excuse = random.choice(excuses)\n",
    "print('Сегодня я не иду на работу, потому что', chosen_excuse)"
   ]
  },
  {
   "cell_type": "code",
   "execution_count": null,
   "metadata": {},
   "outputs": [],
   "source": []
  }
 ],
 "metadata": {
  "kernelspec": {
   "display_name": "Python 3",
   "language": "python",
   "name": "python3"
  },
  "language_info": {
   "codemirror_mode": {
    "name": "ipython",
    "version": 3
   },
   "file_extension": ".py",
   "mimetype": "text/x-python",
   "name": "python",
   "nbconvert_exporter": "python",
   "pygments_lexer": "ipython3",
   "version": "3.8.6"
  }
 },
 "nbformat": 4,
 "nbformat_minor": 4
}
